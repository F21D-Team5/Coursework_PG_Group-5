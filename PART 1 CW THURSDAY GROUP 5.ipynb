{
 "cells": [
  {
   "cell_type": "code",
   "execution_count": 148,
   "id": "fd610ec6",
   "metadata": {},
   "outputs": [],
   "source": [
    "import pandas as pd\n",
    "import numpy as np\n",
    "import matplotlib.pyplot as plt\n",
    "\n",
    "import cv2\n",
    "import os\n",
    "\n",
    "from sklearn.linear_model import SGDClassifier\n",
    "from sklearn.svm import SVC\n",
    "from sklearn.decomposition import PCA\n",
    "\n",
    "import warnings\n",
    "warnings.filterwarnings('ignore')\n",
    "from sklearn.naive_bayes import MultinomialNB\n",
    "from sklearn.preprocessing import label_binarize\n",
    "from sklearn.metrics import roc_curve,auc\n",
    "from sklearn.multiclass import OneVsRestClassifier\n",
    "from sklearn import metrics\n",
    "from sklearn.metrics import roc_auc_score\n",
    "from sklearn.preprocessing import label_binarize\n",
    "\n",
    "np.random.seed(42)"
   ]
  },
  {
   "cell_type": "markdown",
   "id": "3d286dfb",
   "metadata": {},
   "source": [
    "### LOADING THE DATA "
   ]
  },
  {
   "cell_type": "code",
   "execution_count": 37,
   "id": "e793ba51",
   "metadata": {},
   "outputs": [],
   "source": [
    "X_features = pd.read_csv(r'C:\\Users\\Avishkar\\OneDrive\\Documents\\hw dataset\\x_train_all.csv')"
   ]
  },
  {
   "cell_type": "code",
   "execution_count": 38,
   "id": "6d49c302",
   "metadata": {},
   "outputs": [],
   "source": [
    "Y_labels = pd.read_csv(r'C:\\Users\\Avishkar\\OneDrive\\Documents\\hw dataset\\y_train_all.csv')"
   ]
  },
  {
   "cell_type": "markdown",
   "id": "0faae283",
   "metadata": {},
   "source": [
    "### FEATURE SELECTION WITH THE HELP OF PCA"
   ]
  },
  {
   "cell_type": "code",
   "execution_count": 40,
   "id": "b619d401",
   "metadata": {},
   "outputs": [],
   "source": [
    "feature_selection = PCA(n_components=130)\n",
    "df_pca = feature_selection.fit_transform(X_features)"
   ]
  },
  {
   "cell_type": "code",
   "execution_count": 41,
   "id": "4bbc691e",
   "metadata": {},
   "outputs": [
    {
     "data": {
      "text/plain": [
       "(9690, 1)"
      ]
     },
     "execution_count": 41,
     "metadata": {},
     "output_type": "execute_result"
    }
   ],
   "source": [
    "Y_labels.shape"
   ]
  },
  {
   "cell_type": "markdown",
   "id": "9648953d",
   "metadata": {},
   "source": [
    "### NORMALIZATION"
   ]
  },
  {
   "cell_type": "code",
   "execution_count": 43,
   "id": "0eab9ced",
   "metadata": {},
   "outputs": [],
   "source": [
    "x_nor = df_pca / 255.0  ## TO NORMALIZING THE PIXEL VALUES "
   ]
  },
  {
   "cell_type": "code",
   "execution_count": 44,
   "id": "ded53874",
   "metadata": {},
   "outputs": [
    {
     "data": {
      "text/plain": [
       "(9690, 130)"
      ]
     },
     "execution_count": 44,
     "metadata": {},
     "output_type": "execute_result"
    }
   ],
   "source": [
    "x_nor.shape"
   ]
  },
  {
   "cell_type": "code",
   "execution_count": 45,
   "id": "def535c7",
   "metadata": {},
   "outputs": [
    {
     "data": {
      "text/plain": [
       "(9690, 2304)"
      ]
     },
     "execution_count": 45,
     "metadata": {},
     "output_type": "execute_result"
    }
   ],
   "source": [
    "X_features.shape"
   ]
  },
  {
   "cell_type": "code",
   "execution_count": 46,
   "id": "00953013",
   "metadata": {},
   "outputs": [],
   "source": [
    "from sklearn.model_selection import train_test_split  ## SPLITING THE DATASET"
   ]
  },
  {
   "cell_type": "code",
   "execution_count": 47,
   "id": "e712e312",
   "metadata": {},
   "outputs": [],
   "source": [
    "xtrain,xtest,ytrain,ytest = train_test_split(X_features,Y_labels,test_size=0.3,random_state=42)"
   ]
  },
  {
   "cell_type": "code",
   "execution_count": 48,
   "id": "c2123f47",
   "metadata": {},
   "outputs": [
    {
     "data": {
      "text/plain": [
       "((6783, 1), (6783, 2304))"
      ]
     },
     "execution_count": 48,
     "metadata": {},
     "output_type": "execute_result"
    }
   ],
   "source": [
    "ytrain.shape,xtrain.shape"
   ]
  },
  {
   "cell_type": "markdown",
   "id": "b68885b4",
   "metadata": {},
   "source": [
    "### EVALUATE THE DATA WITH DIFFERENT CLASSIFIERS"
   ]
  },
  {
   "cell_type": "code",
   "execution_count": 50,
   "id": "3f56ef3e",
   "metadata": {},
   "outputs": [],
   "source": [
    "classifier = SVC()  ## SUPPORT VECTOR MACHINE"
   ]
  },
  {
   "cell_type": "code",
   "execution_count": 51,
   "id": "c0415166",
   "metadata": {},
   "outputs": [],
   "source": [
    "clas =  classifier.fit(xtrain,ytrain)"
   ]
  },
  {
   "cell_type": "code",
   "execution_count": 52,
   "id": "b19bcb70",
   "metadata": {},
   "outputs": [],
   "source": [
    "Accuracy = clas.score(xtest,ytest)"
   ]
  },
  {
   "cell_type": "code",
   "execution_count": 53,
   "id": "c94f4c21",
   "metadata": {},
   "outputs": [
    {
     "data": {
      "text/plain": [
       "0.8582731338149295"
      ]
     },
     "execution_count": 53,
     "metadata": {},
     "output_type": "execute_result"
    }
   ],
   "source": [
    "Accuracy           ## TESTING DATASET"
   ]
  },
  {
   "cell_type": "code",
   "execution_count": 54,
   "id": "6f48f4ba",
   "metadata": {},
   "outputs": [],
   "source": [
    "clsf = SGDClassifier()  ## STOCHASTIC GRADIENT CLASSIFIER\n",
    "clf = clsf.fit(xtest,ytest)"
   ]
  },
  {
   "cell_type": "code",
   "execution_count": 55,
   "id": "7518d508",
   "metadata": {},
   "outputs": [],
   "source": [
    "accuracy = clf.score(xtest,ytest)"
   ]
  },
  {
   "cell_type": "code",
   "execution_count": 56,
   "id": "91989271",
   "metadata": {},
   "outputs": [
    {
     "data": {
      "text/plain": [
       "0.8390092879256966"
      ]
     },
     "execution_count": 56,
     "metadata": {},
     "output_type": "execute_result"
    }
   ],
   "source": [
    "accuracy"
   ]
  },
  {
   "cell_type": "code",
   "execution_count": 59,
   "id": "a7e4abec",
   "metadata": {},
   "outputs": [
    {
     "data": {
      "text/plain": [
       "(6783, 2304)"
      ]
     },
     "execution_count": 59,
     "metadata": {},
     "output_type": "execute_result"
    }
   ],
   "source": [
    "xtrain.shape"
   ]
  },
  {
   "cell_type": "code",
   "execution_count": 60,
   "id": "c929d094",
   "metadata": {},
   "outputs": [],
   "source": [
    "nav_bayes = MultinomialNB()         ## NAIVE BAYES CLASSIFER\n",
    "naive = nav_bayes.fit(xtrain,ytrain)"
   ]
  },
  {
   "cell_type": "code",
   "execution_count": 61,
   "id": "75645b76",
   "metadata": {},
   "outputs": [],
   "source": [
    "ACCURACY = naive.score(xtest,ytest)"
   ]
  },
  {
   "cell_type": "code",
   "execution_count": 62,
   "id": "c25cd328",
   "metadata": {},
   "outputs": [
    {
     "data": {
      "text/plain": [
       "0.3587891296869625"
      ]
     },
     "execution_count": 62,
     "metadata": {},
     "output_type": "execute_result"
    }
   ],
   "source": [
    "ACCURACY"
   ]
  },
  {
   "cell_type": "code",
   "execution_count": 63,
   "id": "d18499c9",
   "metadata": {},
   "outputs": [],
   "source": [
    "## PREDITIONS "
   ]
  },
  {
   "cell_type": "code",
   "execution_count": 64,
   "id": "ccbf0cd4",
   "metadata": {},
   "outputs": [
    {
     "data": {
      "text/plain": [
       "2304"
      ]
     },
     "execution_count": 64,
     "metadata": {},
     "output_type": "execute_result"
    }
   ],
   "source": [
    "xtrain.shape[1]"
   ]
  },
  {
   "cell_type": "markdown",
   "id": "f74865f7",
   "metadata": {},
   "source": [
    "### IMAGE PREPROCESSING "
   ]
  },
  {
   "cell_type": "code",
   "execution_count": 65,
   "id": "6483f6af",
   "metadata": {},
   "outputs": [],
   "source": [
    "xx_train = xtrain.values.reshape((xtrain.shape[0], 48, 48))  ## ADJUST THE DATASET ARRANGE THE SHAPE "
   ]
  },
  {
   "cell_type": "code",
   "execution_count": 66,
   "id": "2fc9edef",
   "metadata": {},
   "outputs": [
    {
     "data": {
      "text/plain": [
       "(-0.5, 47.5, 47.5, -0.5)"
      ]
     },
     "execution_count": 66,
     "metadata": {},
     "output_type": "execute_result"
    },
    {
     "data": {
      "image/png": "[encoded data removed]",
      "text/plain": [
       "<Figure size 720x720 with 1 Axes>"
      ]
     },
     "metadata": {
      "needs_background": "light"
     },
     "output_type": "display_data"
    }
   ],
   "source": [
    "plt.figure(figsize=(10,10))\n",
    "plt.subplot(1,2,1)\n",
    "plt.imshow(xx_train[5373],cmap='gray')\n",
    "plt.axis('off')"
   ]
  },
  {
   "cell_type": "markdown",
   "id": "03a30b47",
   "metadata": {},
   "source": [
    "### FOR MULTIPLE IMAGE "
   ]
  },
  {
   "cell_type": "code",
   "execution_count": 67,
   "id": "c604e4c1",
   "metadata": {
    "scrolled": true
   },
   "outputs": [
    {
     "data": {
      "image/png": "[encoded data removed]",
      "text/plain": [
       "<Figure size 720x720 with 1 Axes>"
      ]
     },
     "metadata": {
      "needs_background": "light"
     },
     "output_type": "display_data"
    },
    {
     "data": {
      "image/png": "[encoded data removed]",
      "text/plain": [
       "<Figure size 432x288 with 1 Axes>"
      ]
     },
     "metadata": {
      "needs_background": "light"
     },
     "output_type": "display_data"
    },
    {
     "data": {
      "image/png": "[encoded data removed]",
      "text/plain": [
       "<Figure size 432x288 with 1 Axes>"
      ]
     },
     "metadata": {
      "needs_background": "light"
     },
     "output_type": "display_data"
    },
    {
     "data": {
      "image/png": "[encoded data removed]",
      "text/plain": [
       "<Figure size 432x288 with 1 Axes>"
      ]
     },
     "metadata": {
      "needs_background": "light"
     },
     "output_type": "display_data"
    },
    {
     "data": {
      "image/png": "[encoded data removed]",
      "text/plain": [
       "<Figure size 432x288 with 1 Axes>"
      ]
     },
     "metadata": {
      "needs_background": "light"
     },
     "output_type": "display_data"
    },
    {
     "data": {
      "image/png": "[encoded data removed]",
      "text/plain": [
       "<Figure size 432x288 with 1 Axes>"
      ]
     },
     "metadata": {
      "needs_background": "light"
     },
     "output_type": "display_data"
    },
    {
     "data": {
      "image/png": "[encoded data removed]",
      "text/plain": [
       "<Figure size 432x288 with 1 Axes>"
      ]
     },
     "metadata": {
      "needs_background": "light"
     },
     "output_type": "display_data"
    },
    {
     "data": {
      "image/png": "[encoded data removed]",
      "text/plain": [
       "<Figure size 432x288 with 1 Axes>"
      ]
     },
     "metadata": {
      "needs_background": "light"
     },
     "output_type": "display_data"
    },
    {
     "data": {
      "image/png": "[encoded data removed]",
      "text/plain": [
       "<Figure size 432x288 with 1 Axes>"
      ]
     },
     "metadata": {
      "needs_background": "light"
     },
     "output_type": "display_data"
    },
    {
     "data": {
      "image/png": "[encoded data removed]",
      "text/plain": [
       "<Figure size 432x288 with 1 Axes>"
      ]
     },
     "metadata": {
      "needs_background": "light"
     },
     "output_type": "display_data"
    }
   ],
   "source": [
    "plt.figure(figsize=(10,10))\n",
    "for i in range(10):\n",
    "    plt.subplot(4,4,i+1),\n",
    "    plt.imshow(xx_train[i],cmap='gray'),\n",
    "    plt.axis('off'),\n",
    "    plt.show()\n",
    "    "
   ]
  },
  {
   "cell_type": "markdown",
   "id": "538c541e",
   "metadata": {},
   "source": [
    "### PREDICTIONS ON TEST"
   ]
  },
  {
   "cell_type": "code",
   "execution_count": 68,
   "id": "3292f34c",
   "metadata": {},
   "outputs": [],
   "source": [
    "y_pred = nav_bayes.predict(xtest)"
   ]
  },
  {
   "cell_type": "code",
   "execution_count": 69,
   "id": "5a414b4d",
   "metadata": {},
   "outputs": [
    {
     "data": {
      "text/plain": [
       "array([4, 4, 3, ..., 4, 0, 6], dtype=int64)"
      ]
     },
     "execution_count": 69,
     "metadata": {},
     "output_type": "execute_result"
    }
   ],
   "source": [
    "y_pred"
   ]
  },
  {
   "cell_type": "markdown",
   "id": "9cf51919",
   "metadata": {},
   "source": [
    "#### generating the data set with 50,100,200 features."
   ]
  },
  {
   "cell_type": "markdown",
   "id": "ca25f913",
   "metadata": {},
   "source": [
    "#### creating the new dataset with labeling specific classes."
   ]
  },
  {
   "cell_type": "code",
   "execution_count": 99,
   "id": "e6d741b6",
   "metadata": {},
   "outputs": [],
   "source": [
    "def generate_synthetic_dataset(labels_cls,pixel_num):  ## DEFINEE THE DATASET \n",
    "    \n",
    "    pixel = np.random.rand(labels_cls,pixel_num)\n",
    "    \n",
    "    labels = np.random.randint(0, 10, size=labels_cls)\n",
    "    \n",
    "    for i in range(10):\n",
    "        SPEC_CLAS = (labels== i)\n",
    "        pixel[SPEC_CLAS,:i] += 1\n",
    "        \n",
    "    return pd.DataFrame(pixel,columns=[f'feature_{i}' for i in range(pixel_num)]),labels\n"
   ]
  },
  {
   "cell_type": "markdown",
   "id": "9f6dcafc",
   "metadata": {},
   "source": [
    "### creating the new dataset with labeling specific classes."
   ]
  },
  {
   "cell_type": "code",
   "execution_count": 101,
   "id": "73c9bbeb",
   "metadata": {},
   "outputs": [],
   "source": [
    "labels_cls = 1000 ##NUMBER OF SAMPLE DATASET"
   ]
  },
  {
   "cell_type": "code",
   "execution_count": null,
   "id": "be947ca0",
   "metadata": {},
   "outputs": [],
   "source": [
    "pixel_num_50 = 50    ## 50 features\n",
    "new_dataset_50, new_labels_50 = generate_synthetic_dataset(labels_cls,pixel_num_50)\n",
    "\n",
    "pixel_num_100 = 100  ## 100 features\n",
    "new_dataset_100, new_labels_100 = generate_synthetic_dataset(labels_cls,pixel_num_100)\n",
    "\n",
    "pixel_num_200 = 200  ## 200 features\n",
    "new_dataset_200, new_labels_200 = generate_synthetic_dataset(labels_cls,pixel_num_200)\n"
   ]
  },
  {
   "cell_type": "code",
   "execution_count": 125,
   "id": "2400c033",
   "metadata": {},
   "outputs": [
    {
     "data": {
      "text/plain": [
       "(     feature_0  feature_1  feature_2  feature_3  feature_4  feature_5  \\\n",
       " 0     1.614241   1.757317   1.657361   1.804769   1.339074   1.763073   \n",
       " 1     1.402341   1.799415   1.557533   1.282647   0.404504   0.939247   \n",
       " 2     1.567185   1.377367   1.095662   1.128361   0.843385   0.896005   \n",
       " 3     0.674153   0.657114   0.224298   0.639295   0.356081   0.076852   \n",
       " 4     0.723527   0.778873   0.904859   0.851768   0.074237   0.176924   \n",
       " ..         ...        ...        ...        ...        ...        ...   \n",
       " 995   1.623699   0.200070   0.699796   0.409950   0.016854   0.870073   \n",
       " 996   1.180592   1.903771   0.978588   0.051737   0.484715   0.102995   \n",
       " 997   1.554692   1.185187   1.403556   1.308041   1.852327   0.100256   \n",
       " 998   1.762457   1.998196   0.325080   0.494216   0.402247   0.459249   \n",
       " 999   1.788705   1.118037   1.152850   1.734636   1.441425   1.804818   \n",
       " \n",
       "      feature_6  feature_7  feature_8  feature_9  ...  feature_40  feature_41  \\\n",
       " 0     1.301037   1.334488   1.653121   0.348088  ...    0.075644    0.806083   \n",
       " 1     0.754817   0.176471   0.166128   0.070627  ...    0.300731    0.344783   \n",
       " 2     0.478077   0.332127   0.147203   0.206527  ...    0.647180    0.455225   \n",
       " 3     0.488496   0.979268   0.280973   0.787229  ...    0.281195    0.114845   \n",
       " 4     0.852334   0.503364   0.712072   0.002669  ...    0.940838    0.767940   \n",
       " ..         ...        ...        ...        ...  ...         ...         ...   \n",
       " 995   0.389717   0.336084   0.457333   0.368282  ...    0.433975    0.205563   \n",
       " 996   0.314600   0.077933   0.110761   0.023786  ...    0.920064    0.216104   \n",
       " 997   0.847676   0.273746   0.533681   0.201950  ...    0.454906    0.391093   \n",
       " 998   0.722381   0.327521   0.922621   0.971879  ...    0.733423    0.733151   \n",
       " 999   0.660946   0.509401   0.017588   0.933596  ...    0.667818    0.576276   \n",
       " \n",
       "      feature_42  feature_43  feature_44  feature_45  feature_46  feature_47  \\\n",
       " 0      0.128601    0.241501    0.307738    0.780796    0.769496    0.012183   \n",
       " 1      0.048302    0.051640    0.684774    0.830608    0.372358    0.352755   \n",
       " 2      0.067875    0.299456    0.271723    0.780714    0.382504    0.281185   \n",
       " 3      0.946669    0.284323    0.283396    0.873523    0.257862    0.671625   \n",
       " 4      0.160702    0.417885    0.593738    0.528994    0.245449    0.367583   \n",
       " ..          ...         ...         ...         ...         ...         ...   \n",
       " 995    0.820280    0.415416    0.130387    0.186439    0.005000    0.648446   \n",
       " 996    0.069499    0.587128    0.562374    0.863725    0.178648    0.590497   \n",
       " 997    0.145898    0.315441    0.412833    0.019611    0.047864    0.956581   \n",
       " 998    0.156515    0.925871    0.615161    0.108624    0.839746    0.385501   \n",
       " 999    0.058738    0.874095    0.173604    0.895088    0.934775    0.912312   \n",
       " \n",
       "      feature_48  feature_49  \n",
       " 0      0.358064    0.072275  \n",
       " 1      0.505471    0.878922  \n",
       " 2      0.304203    0.602093  \n",
       " 3      0.966040    0.688121  \n",
       " 4      0.544176    0.252253  \n",
       " ..          ...         ...  \n",
       " 995    0.311106    0.032743  \n",
       " 996    0.309990    0.743344  \n",
       " 997    0.185398    0.114967  \n",
       " 998    0.043080    0.041328  \n",
       " 999    0.746640    0.329415  \n",
       " \n",
       " [1000 rows x 50 columns],\n",
       " (1000,))"
      ]
     },
     "execution_count": 125,
     "metadata": {},
     "output_type": "execute_result"
    }
   ],
   "source": [
    "new_dataset_50,new_labels_50.shape"
   ]
  },
  {
   "cell_type": "code",
   "execution_count": 189,
   "id": "69c92ecf",
   "metadata": {},
   "outputs": [],
   "source": [
    "x1 = new_dataset_50\n",
    "y2 = new_labels_50"
   ]
  },
  {
   "cell_type": "code",
   "execution_count": 190,
   "id": "5f763fa9",
   "metadata": {},
   "outputs": [],
   "source": [
    "X1TRAIN,X2TEST,Y1TRAIN,Y2TEST = train_test_split(x1,y2,test_size=0.3,random_state=42)"
   ]
  },
  {
   "cell_type": "markdown",
   "id": "2018e576",
   "metadata": {},
   "source": [
    "#### ACCURACY_FOR_50_FEATURES"
   ]
  },
  {
   "cell_type": "code",
   "execution_count": 202,
   "id": "58929107",
   "metadata": {},
   "outputs": [],
   "source": [
    "nav_bayes = MultinomialNB()         ## NAIVE BAYES CLASSIFER\n",
    "naive = nav_bayes.fit(X1TRAIN,Y1TRAIN)"
   ]
  },
  {
   "cell_type": "code",
   "execution_count": 203,
   "id": "e2cf613a",
   "metadata": {},
   "outputs": [],
   "source": [
    "ACCURACY_50 =  nav_bayes.score(X2TEST,Y2TEST)"
   ]
  },
  {
   "cell_type": "code",
   "execution_count": 204,
   "id": "7e6316c8",
   "metadata": {},
   "outputs": [
    {
     "data": {
      "text/plain": [
       "0.7366666666666667"
      ]
     },
     "execution_count": 204,
     "metadata": {},
     "output_type": "execute_result"
    }
   ],
   "source": [
    "ACCURACY_50"
   ]
  },
  {
   "cell_type": "markdown",
   "id": "afd455c1",
   "metadata": {},
   "source": [
    "#### ACCURACY_FOR_100_FEATURES"
   ]
  },
  {
   "cell_type": "code",
   "execution_count": 205,
   "id": "3da4acba",
   "metadata": {},
   "outputs": [],
   "source": [
    "x3 = new_dataset_100\n",
    "y3 = new_labels_100"
   ]
  },
  {
   "cell_type": "code",
   "execution_count": 206,
   "id": "e31b4f10",
   "metadata": {},
   "outputs": [],
   "source": [
    "X3TRAIN,X3TEST,Y3TRAIN,Y3TEST = train_test_split(x3,y3,test_size=0.2,random_state=42)"
   ]
  },
  {
   "cell_type": "code",
   "execution_count": 207,
   "id": "c70968f6",
   "metadata": {},
   "outputs": [],
   "source": [
    "nav_bayes = MultinomialNB()         ## NAIVE BAYES CLASSIFER\n",
    "naive = nav_bayes.fit(X3TRAIN,Y3TRAIN)"
   ]
  },
  {
   "cell_type": "code",
   "execution_count": 208,
   "id": "ca909150",
   "metadata": {},
   "outputs": [],
   "source": [
    "ACCURACY_100 =  nav_bayes.score(X3TEST,Y3TEST)"
   ]
  },
  {
   "cell_type": "code",
   "execution_count": 214,
   "id": "5ef43047",
   "metadata": {},
   "outputs": [
    {
     "data": {
      "text/plain": [
       "0.74"
      ]
     },
     "execution_count": 214,
     "metadata": {},
     "output_type": "execute_result"
    }
   ],
   "source": [
    "ACCURACY_100"
   ]
  },
  {
   "cell_type": "markdown",
   "id": "f2096823",
   "metadata": {},
   "source": [
    "#### ACCURACY_FOR_200_FEATURES"
   ]
  },
  {
   "cell_type": "code",
   "execution_count": 210,
   "id": "872e44f7",
   "metadata": {},
   "outputs": [],
   "source": [
    "x4 = new_dataset_200\n",
    "y4 = new_labels_200"
   ]
  },
  {
   "cell_type": "code",
   "execution_count": 211,
   "id": "645507e9",
   "metadata": {},
   "outputs": [],
   "source": [
    "X4TRAIN,X4TEST,Y4TRAIN,Y4TEST = train_test_split(x4,y4,test_size=0.4,random_state=42)"
   ]
  },
  {
   "cell_type": "code",
   "execution_count": 212,
   "id": "c8649938",
   "metadata": {},
   "outputs": [],
   "source": [
    "nav_bayes = MultinomialNB()         ## NAIVE BAYES CLASSIFER\n",
    "naive = nav_bayes.fit(X4TRAIN,Y4TRAIN)"
   ]
  },
  {
   "cell_type": "code",
   "execution_count": 213,
   "id": "de9404dd",
   "metadata": {},
   "outputs": [],
   "source": [
    "ACCURACY_200 =  nav_bayes.score(X4TEST,Y4TEST)"
   ]
  },
  {
   "cell_type": "code",
   "execution_count": 215,
   "id": "7f6afe91",
   "metadata": {},
   "outputs": [
    {
     "data": {
      "text/plain": [
       "0.655"
      ]
     },
     "execution_count": 215,
     "metadata": {},
     "output_type": "execute_result"
    }
   ],
   "source": [
    "ACCURACY_200"
   ]
  },
  {
   "cell_type": "markdown",
   "id": "2f093c44",
   "metadata": {},
   "source": [
    "### calculating the cross validation on each dataset"
   ]
  },
  {
   "cell_type": "code",
   "execution_count": 179,
   "id": "a9923ecf",
   "metadata": {},
   "outputs": [],
   "source": [
    "from sklearn.model_selection import cross_val_score"
   ]
  },
  {
   "cell_type": "code",
   "execution_count": 187,
   "id": "c1f3ecc1",
   "metadata": {},
   "outputs": [],
   "source": [
    "def cross_val(classifier,dataset,labels,folderss = 7):\n",
    "    val_score = cross_val_score(classifier,dataset,labels,cv=folderss)\n",
    "    print(f\"Cross-validation scores: {val_score}\")\n",
    "    print(f\"MEAN_ACCURACY: {val_score.mean():2f}\")\n",
    "    print(f\"SD:{val_score.std():.2f}\")"
   ]
  },
  {
   "cell_type": "code",
   "execution_count": 188,
   "id": "000adff3",
   "metadata": {},
   "outputs": [
    {
     "name": "stdout",
     "output_type": "stream",
     "text": [
      "\n",
      "Cross-validation for Dataset with 50 features:\n",
      "Cross-validation scores: [0.78321678 0.74825175 0.74825175 0.81818182 0.74125874 0.8041958\n",
      " 0.76760563]\n",
      "MEAN_ACCURACY: 0.772995\n",
      "SD:0.03\n"
     ]
    }
   ],
   "source": [
    "print(\"\\nCross-validation for Dataset with 50 features:\") \n",
    "cross_val(MultinomialNB(),new_dataset_50, new_labels_50)"
   ]
  },
  {
   "cell_type": "code",
   "execution_count": 184,
   "id": "a3a64fe4",
   "metadata": {},
   "outputs": [
    {
     "name": "stdout",
     "output_type": "stream",
     "text": [
      "\n",
      "Cross-validation for Dataset with 100 features:\n",
      "Cross-validation scores: [0.81818182 0.8041958  0.74125874 0.75524476 0.77622378 0.75524476\n",
      " 0.8028169 ]\n",
      "MEAN_ACCURACY: 0.779024\n",
      "SD:0.03\n"
     ]
    }
   ],
   "source": [
    "print(\"\\nCross-validation for Dataset with 100 features:\")\n",
    "cross_val(MultinomialNB(),new_dataset_100, new_labels_100)"
   ]
  },
  {
   "cell_type": "code",
   "execution_count": 185,
   "id": "58775125",
   "metadata": {},
   "outputs": [
    {
     "name": "stdout",
     "output_type": "stream",
     "text": [
      "\n",
      "Cross-validation for Dataset with 200 features:\n",
      "Cross-validation scores: [0.79020979 0.72027972 0.72027972 0.72027972 0.70629371 0.68531469\n",
      " 0.72535211]\n",
      "MEAN_ACCURACY: 0.724001\n",
      "SD:0.03\n"
     ]
    }
   ],
   "source": [
    "print(\"\\nCross-validation for Dataset with 200 features:\")\n",
    "cross_val(MultinomialNB(),new_dataset_200, new_labels_200)"
   ]
  },
  {
   "cell_type": "markdown",
   "id": "890163df",
   "metadata": {},
   "source": [
    "### PLOTTING ROC CURVE FOR EACH DATASET"
   ]
  },
  {
   "cell_type": "code",
   "execution_count": 155,
   "id": "97693113",
   "metadata": {},
   "outputs": [],
   "source": [
    "from sklearn.metrics import accuracy_score,classification_report"
   ]
  },
  {
   "cell_type": "code",
   "execution_count": 157,
   "id": "ce23e9a6",
   "metadata": {},
   "outputs": [],
   "source": [
    "def evaluate_metrics(classifiers,dataset,labels):\n",
    "    predictions = {}\n",
    "    \n",
    "    for i,classifier in classifiers.items():\n",
    "        predictions[i] = classifier.predict(dataset)\n",
    "        \n",
    "    predictions_df = pd.DataFrame(predictions)\n",
    "    \n",
    "    predicted_class = predictions_df.idxmax(axis=1)\n",
    "    accuracy = accuracy_score(labels, predicted_class)\n",
    "    print(f\"Accuracy: {accuracy:.2f}\")\n",
    "    print(\"\\nClassification Report:\")\n",
    "    print(classification_report(labels, predicted_class))"
   ]
  },
  {
   "cell_type": "code",
   "execution_count": 220,
   "id": "54b67ef0",
   "metadata": {
    "scrolled": true
   },
   "outputs": [
    {
     "name": "stdout",
     "output_type": "stream",
     "text": [
      "Evaluation metrics  Dataset with 50 pixels:\n",
      "Accuracy: 0.77\n",
      "\n",
      "Classification Report:\n",
      "              precision    recall  f1-score   support\n",
      "\n",
      "           0       0.33      1.00      0.49       100\n",
      "           1       0.97      0.76      0.85        95\n",
      "           2       0.90      0.65      0.76        86\n",
      "           3       0.96      0.70      0.81        79\n",
      "           4       0.99      0.65      0.78       102\n",
      "           5       0.95      0.82      0.88       103\n",
      "           6       0.96      0.71      0.81       109\n",
      "           7       0.97      0.67      0.79        97\n",
      "           8       0.92      0.74      0.82        95\n",
      "           9       1.00      0.91      0.95       134\n",
      "\n",
      "    accuracy                           0.77      1000\n",
      "   macro avg       0.90      0.76      0.79      1000\n",
      "weighted avg       0.90      0.77      0.80      1000\n",
      "\n",
      "\n",
      "Evaluation metrics with 100 pixels:\n",
      "Accuracy: 0.83\n",
      "\n",
      "Classification Report:\n",
      "              precision    recall  f1-score   support\n",
      "\n",
      "           0       0.43      1.00      0.60       102\n",
      "           1       0.96      0.82      0.89        97\n",
      "           2       0.95      0.82      0.88        96\n",
      "           3       0.95      0.81      0.87       120\n",
      "           4       0.95      0.71      0.81       103\n",
      "           5       0.97      0.82      0.89        95\n",
      "           6       1.00      0.79      0.88        85\n",
      "           7       0.99      0.78      0.87        91\n",
      "           8       0.92      0.90      0.91       113\n",
      "           9       1.00      0.88      0.93        98\n",
      "\n",
      "    accuracy                           0.83      1000\n",
      "   macro avg       0.91      0.83      0.85      1000\n",
      "weighted avg       0.91      0.83      0.85      1000\n",
      "\n"
     ]
    }
   ],
   "source": [
    "print(\"Evaluation metrics  Dataset with 50 pixels:\")\n",
    "evaluate_metrics(clf_50, new_dataset_50, new_labels_50)\n",
    "\n",
    "print(\"\\nEvaluation metrics with 100 pixels:\")\n",
    "evaluate_metrics(clf_100, new_dataset_100, new_labels_100)"
   ]
  },
  {
   "cell_type": "code",
   "execution_count": 216,
   "id": "132dcc65",
   "metadata": {},
   "outputs": [
    {
     "name": "stdout",
     "output_type": "stream",
     "text": [
      "\n",
      "Evaluation metrics with 200 pixels:\n",
      "Accuracy: 0.89\n",
      "\n",
      "Classification Report:\n",
      "              precision    recall  f1-score   support\n",
      "\n",
      "           0       0.50      1.00      0.67        91\n",
      "           1       0.96      0.89      0.92       102\n",
      "           2       0.95      0.76      0.85        83\n",
      "           3       0.96      0.87      0.91       107\n",
      "           4       0.99      0.86      0.92        98\n",
      "           5       0.96      0.88      0.92       115\n",
      "           6       0.99      0.93      0.96       108\n",
      "           7       1.00      0.80      0.89        92\n",
      "           8       0.99      0.91      0.95        93\n",
      "           9       0.99      0.98      0.99       111\n",
      "\n",
      "    accuracy                           0.89      1000\n",
      "   macro avg       0.93      0.89      0.90      1000\n",
      "weighted avg       0.93      0.89      0.90      1000\n",
      "\n"
     ]
    }
   ],
   "source": [
    "print(\"\\nEvaluation metrics with 200 pixels:\")\n",
    "evaluate_metrics(clf_200, new_dataset_200, new_labels_200)"
   ]
  },
  {
   "cell_type": "code",
   "execution_count": 218,
   "id": "d3a80129",
   "metadata": {},
   "outputs": [],
   "source": [
    "def plotting_roc_curvee(classifiers,dataset,labels):\n",
    "    bl = label_binarize(labels,classes=np.arange(10))\n",
    "    \n",
    "    \n",
    "## plotting roc curve for each dataset\n",
    "    \n",
    "    for i,classifier in classifiers.items():\n",
    "        y_proba = classifier.predict_proba(dataset)[:,1]\n",
    "        fpr,tpr, _  = roc_curve(bl[:,i],y_proba)\n",
    "        auc_value = roc_auc_score(bl[:,i],y_proba)\n",
    "        plt.figure(figsize=(4,8))\n",
    "        plt.plot(fpr,tpr,label=f'Class {i} (AUC = {auc_value:.2f})')\n",
    "   \n",
    "    plt.ylabel('True Positive Rate')\n",
    "    plt.xlabel('False Positive Rate')\n",
    "    plt.title('One_vs_rest')\n",
    "    plt.legend()\n",
    "    plt.show()\n"
   ]
  },
  {
   "cell_type": "code",
   "execution_count": 219,
   "id": "7b892813",
   "metadata": {},
   "outputs": [
    {
     "name": "stdout",
     "output_type": "stream",
     "text": [
      "\n",
      "ROC Curve for Dataset with 50 features:\n"
     ]
    },
    {
     "data": {
      "image/png": "[encoded data removed]",
      "text/plain": [
       "<Figure size 288x576 with 1 Axes>"
      ]
     },
     "metadata": {
      "needs_background": "light"
     },
     "output_type": "display_data"
    },
    {
     "data": {
      "image/png": "[encoded data removed]",
      "text/plain": [
       "<Figure size 288x576 with 1 Axes>"
      ]
     },
     "metadata": {
      "needs_background": "light"
     },
     "output_type": "display_data"
    },
    {
     "data": {
      "image/png": "[encoded data removed]",
      "text/plain": [
       "<Figure size 288x576 with 1 Axes>"
      ]
     },
     "metadata": {
      "needs_background": "light"
     },
     "output_type": "display_data"
    },
    {
     "data": {
      "image/png": "[encoded data removed]",
      "text/plain": [
       "<Figure size 288x576 with 1 Axes>"
      ]
     },
     "metadata": {
      "needs_background": "light"
     },
     "output_type": "display_data"
    },
    {
     "data": {
      "image/png": "[encoded data removed]",
      "text/plain": [
       "<Figure size 288x576 with 1 Axes>"
      ]
     },
     "metadata": {
      "needs_background": "light"
     },
     "output_type": "display_data"
    },
    {
     "data": {
      "image/png": "[encoded data removed]",
      "text/plain": [
       "<Figure size 288x576 with 1 Axes>"
      ]
     },
     "metadata": {
      "needs_background": "light"
     },
     "output_type": "display_data"
    },
    {
     "data": {
      "image/png": "[encoded data removed]",
      "text/plain": [
       "<Figure size 288x576 with 1 Axes>"
      ]
     },
     "metadata": {
      "needs_background": "light"
     },
     "output_type": "display_data"
    },
    {
     "data": {
      "image/png": "[encoded data removed]",
      "text/plain": [
       "<Figure size 288x576 with 1 Axes>"
      ]
     },
     "metadata": {
      "needs_background": "light"
     },
     "output_type": "display_data"
    },
    {
     "data": {
      "image/png": "[encoded data removed]",
      "text/plain": [
       "<Figure size 288x576 with 1 Axes>"
      ]
     },
     "metadata": {
      "needs_background": "light"
     },
     "output_type": "display_data"
    },
    {
     "data": {
      "image/png": "[encoded data removed]",
      "text/plain": [
       "<Figure size 288x576 with 1 Axes>"
      ]
     },
     "metadata": {
      "needs_background": "light"
     },
     "output_type": "display_data"
    }
   ],
   "source": [
    "print(\"\\nROC Curve for Dataset with 50 features:\")\n",
    "plotting_roc_curvee(clf_50, new_dataset_50, new_labels_50)"
   ]
  },
  {
   "cell_type": "code",
   "execution_count": 176,
   "id": "53f0c055",
   "metadata": {},
   "outputs": [
    {
     "name": "stdout",
     "output_type": "stream",
     "text": [
      "\n",
      "ROC Curve for Dataset with 100 features:\n"
     ]
    },
    {
     "data": {
      "image/png": "[encoded data removed]",
      "text/plain": [
       "<Figure size 288x576 with 1 Axes>"
      ]
     },
     "metadata": {
      "needs_background": "light"
     },
     "output_type": "display_data"
    },
    {
     "data": {
      "image/png": "[encoded data removed]",
      "text/plain": [
       "<Figure size 288x576 with 1 Axes>"
      ]
     },
     "metadata": {
      "needs_background": "light"
     },
     "output_type": "display_data"
    },
    {
     "data": {
      "image/png": "[encoded data removed]",
      "text/plain": [
       "<Figure size 288x576 with 1 Axes>"
      ]
     },
     "metadata": {
      "needs_background": "light"
     },
     "output_type": "display_data"
    },
    {
     "data": {
      "image/png": "[encoded data removed]",
      "text/plain": [
       "<Figure size 288x576 with 1 Axes>"
      ]
     },
     "metadata": {
      "needs_background": "light"
     },
     "output_type": "display_data"
    },
    {
     "data": {
      "image/png": "[encoded data removed]",
      "text/plain": [
       "<Figure size 288x576 with 1 Axes>"
      ]
     },
     "metadata": {
      "needs_background": "light"
     },
     "output_type": "display_data"
    },
    {
     "data": {
      "image/png": "[encoded data removed]",
      "text/plain": [
       "<Figure size 288x576 with 1 Axes>"
      ]
     },
     "metadata": {
      "needs_background": "light"
     },
     "output_type": "display_data"
    },
    {
     "data": {
      "image/png": "[encoded data removed]",
      "text/plain": [
       "<Figure size 288x576 with 1 Axes>"
      ]
     },
     "metadata": {
      "needs_background": "light"
     },
     "output_type": "display_data"
    },
    {
     "data": {
      "image/png": "[encoded data removed]",
      "text/plain": [
       "<Figure size 288x576 with 1 Axes>"
      ]
     },
     "metadata": {
      "needs_background": "light"
     },
     "output_type": "display_data"
    },
    {
     "data": {
      "image/png": "[encoded data removed]",
      "text/plain": [
       "<Figure size 288x576 with 1 Axes>"
      ]
     },
     "metadata": {
      "needs_background": "light"
     },
     "output_type": "display_data"
    },
    {
     "data": {
      "image/png": "[encoded data removed]",
      "text/plain": [
       "<Figure size 288x576 with 1 Axes>"
      ]
     },
     "metadata": {
      "needs_background": "light"
     },
     "output_type": "display_data"
    }
   ],
   "source": [
    "print(\"\\nROC Curve for Dataset with 100 features:\")\n",
    "plotting_roc_curvee(clf_100, new_dataset_100, new_labels_100)\n"
   ]
  },
  {
   "cell_type": "code",
   "execution_count": 177,
   "id": "cf51a460",
   "metadata": {},
   "outputs": [
    {
     "name": "stdout",
     "output_type": "stream",
     "text": [
      "\n",
      "ROC Curve for Dataset with 200 features:\n"
     ]
    },
    {
     "data": {
      "image/png": "[encoded data removed]",
      "text/plain": [
       "<Figure size 288x576 with 1 Axes>"
      ]
     },
     "metadata": {
      "needs_background": "light"
     },
     "output_type": "display_data"
    },
    {
     "data": {
      "image/png": "[encoded data removed]",
      "text/plain": [
       "<Figure size 288x576 with 1 Axes>"
      ]
     },
     "metadata": {
      "needs_background": "light"
     },
     "output_type": "display_data"
    },
    {
     "data": {
      "image/png": "[encoded data removed]",
      "text/plain": [
       "<Figure size 288x576 with 1 Axes>"
      ]
     },
     "metadata": {
      "needs_background": "light"
     },
     "output_type": "display_data"
    },
    {
     "data": {
      "image/png": "[encoded data removed]",
      "text/plain": [
       "<Figure size 288x576 with 1 Axes>"
      ]
     },
     "metadata": {
      "needs_background": "light"
     },
     "output_type": "display_data"
    },
    {
     "data": {
      "image/png": "[encoded data removed]",
      "text/plain": [
       "<Figure size 288x576 with 1 Axes>"
      ]
     },
     "metadata": {
      "needs_background": "light"
     },
     "output_type": "display_data"
    },
    {
     "data": {
      "image/png": "[encoded data removed]",
      "text/plain": [
       "<Figure size 288x576 with 1 Axes>"
      ]
     },
     "metadata": {
      "needs_background": "light"
     },
     "output_type": "display_data"
    },
    {
     "data": {
      "image/png": "[encoded data removed]",
      "text/plain": [
       "<Figure size 288x576 with 1 Axes>"
      ]
     },
     "metadata": {
      "needs_background": "light"
     },
     "output_type": "display_data"
    },
    {
     "data": {
      "image/png": "[encoded data removed]",
      "text/plain": [
       "<Figure size 288x576 with 1 Axes>"
      ]
     },
     "metadata": {
      "needs_background": "light"
     },
     "output_type": "display_data"
    },
    {
     "data": {
      "image/png": "[encoded data removed]",
      "text/plain": [
       "<Figure size 288x576 with 1 Axes>"
      ]
     },
     "metadata": {
      "needs_background": "light"
     },
     "output_type": "display_data"
    },
    {
     "data": {
      "image/png": "[encoded data removed]",
      "text/plain": [
       "<Figure size 288x576 with 1 Axes>"
      ]
     },
     "metadata": {
      "needs_background": "light"
     },
     "output_type": "display_data"
    }
   ],
   "source": [
    "print(\"\\nROC Curve for Dataset with 200 features:\")\n",
    "plotting_roc_curvee(clf_200, new_dataset_200, new_labels_200)"
   ]
  },
  {
   "cell_type": "code",
   "execution_count": null,
   "id": "1a9fa311",
   "metadata": {},
   "outputs": [],
   "source": []
  }
 ],
 "metadata": {
  "kernelspec": {
   "display_name": "Python 3",
   "language": "python",
   "name": "python3"
  },
  "language_info": {
   "codemirror_mode": {
    "name": "ipython",
    "version": 3
   },
   "file_extension": ".py",
   "mimetype": "text/x-python",
   "name": "python",
   "nbconvert_exporter": "python",
   "pygments_lexer": "ipython3",
   "version": "3.8.8"
  }
 },
 "nbformat": 4,
 "nbformat_minor": 5
}
